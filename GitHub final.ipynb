{
 "cells": [
  {
   "cell_type": "markdown",
   "metadata": {},
   "source": [
    "# 主題:訓練模型以準確識別每張圖像中的動物或運輸物體"
   ]
  },
  {
   "cell_type": "markdown",
   "metadata": {},
   "source": [
    "## 組員: 周柏穎 R07941008、林汶毅 R07941025"
   ]
  },
  {
   "cell_type": "markdown",
   "metadata": {},
   "source": [
    "##  介紹:"
   ]
  },
  {
   "cell_type": "markdown",
   "metadata": {},
   "source": [
    "### 使用卷積神經網路CNN識別各種圖像，內容包括 :飛機，汽車，貓，狗，花，水果，摩托車和人"
   ]
  },
  {
   "cell_type": "markdown",
   "metadata": {},
   "source": [
    "##  實作方法:"
   ]
  },
  {
   "cell_type": "markdown",
   "metadata": {},
   "source": [
    "### 1.進入kaggle裡將資料下載下來\n",
    "### 2.將圖片檔匯入，進行資料前處理\n",
    "### 3.建立CNN圖像辨識神經網絡，找到最高準確性並預測\n",
    "### 4.input為各種圖像，output為種類名稱"
   ]
  },
  {
   "cell_type": "markdown",
   "metadata": {},
   "source": [
    "## 專案排程:"
   ]
  },
  {
   "cell_type": "markdown",
   "metadata": {},
   "source": [
    "###   5/22前：小組討論整體架構以及實作方法\n",
    "###   5/25前：資料抓取和前期處理\n",
    "###   6/01前：設計並訓練各式各樣模型\n",
    "###  6/06前：彙整結果並完成期末專案報告   "
   ]
  },
  {
   "cell_type": "markdown",
   "metadata": {},
   "source": [
    "## 當前進度："
   ]
  },
  {
   "cell_type": "markdown",
   "metadata": {},
   "source": [
    "### 彙整資料並建立模型"
   ]
  }
 ],
 "metadata": {
  "kernelspec": {
   "display_name": "Python 3",
   "language": "python",
   "name": "python3"
  },
  "language_info": {
   "codemirror_mode": {
    "name": "ipython",
    "version": 3
   },
   "file_extension": ".py",
   "mimetype": "text/x-python",
   "name": "python",
   "nbconvert_exporter": "python",
   "pygments_lexer": "ipython3",
   "version": "3.6.5"
  }
 },
 "nbformat": 4,
 "nbformat_minor": 2
}
