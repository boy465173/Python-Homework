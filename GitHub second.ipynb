{
 "cells": [
  {
   "cell_type": "markdown",
   "metadata": {},
   "source": [
    "# 分析104年新北市景點在夏季７月與冬季12月的旅客人數關係"
   ]
  },
  {
   "cell_type": "code",
   "execution_count": 1,
   "metadata": {},
   "outputs": [],
   "source": [
    "%matplotlib inline\n",
    "\n",
    "import numpy as np\n",
    "import matplotlib.pyplot as plt\n",
    "import pandas as pd"
   ]
  },
  {
   "cell_type": "code",
   "execution_count": 2,
   "metadata": {},
   "outputs": [],
   "source": [
    "df = pd.read_csv('Taipei_view.csv')"
   ]
  },
  {
   "cell_type": "markdown",
   "metadata": {},
   "source": [
    "資料下載：https://data.gov.tw/dataset/44016"
   ]
  },
  {
   "cell_type": "code",
   "execution_count": 3,
   "metadata": {},
   "outputs": [
    {
     "data": {
      "text/html": [
       "<div>\n",
       "<style scoped>\n",
       "    .dataframe tbody tr th:only-of-type {\n",
       "        vertical-align: middle;\n",
       "    }\n",
       "\n",
       "    .dataframe tbody tr th {\n",
       "        vertical-align: top;\n",
       "    }\n",
       "\n",
       "    .dataframe thead th {\n",
       "        text-align: right;\n",
       "    }\n",
       "</style>\n",
       "<table border=\"1\" class=\"dataframe\">\n",
       "  <thead>\n",
       "    <tr style=\"text-align: right;\">\n",
       "      <th></th>\n",
       "      <th>Year</th>\n",
       "      <th>ScenicSpots</th>\n",
       "      <th>January</th>\n",
       "      <th>February</th>\n",
       "      <th>March</th>\n",
       "      <th>April</th>\n",
       "      <th>May</th>\n",
       "      <th>June</th>\n",
       "      <th>July</th>\n",
       "      <th>August</th>\n",
       "      <th>September</th>\n",
       "      <th>October</th>\n",
       "      <th>November</th>\n",
       "      <th>December</th>\n",
       "      <th>Total</th>\n",
       "    </tr>\n",
       "  </thead>\n",
       "  <tbody>\n",
       "    <tr>\n",
       "      <th>0</th>\n",
       "      <td>104</td>\n",
       "      <td>林本源園邸</td>\n",
       "      <td>44820</td>\n",
       "      <td>44198</td>\n",
       "      <td>34209.0</td>\n",
       "      <td>40214.0</td>\n",
       "      <td>39353.0</td>\n",
       "      <td>29550.0</td>\n",
       "      <td>34856.0</td>\n",
       "      <td>30662.0</td>\n",
       "      <td>27964.0</td>\n",
       "      <td>40779.0</td>\n",
       "      <td>43828.0</td>\n",
       "      <td>35799.0</td>\n",
       "      <td>446232</td>\n",
       "    </tr>\n",
       "    <tr>\n",
       "      <th>1</th>\n",
       "      <td>104</td>\n",
       "      <td>碧潭風景特定區</td>\n",
       "      <td>120000</td>\n",
       "      <td>154000</td>\n",
       "      <td>93300.0</td>\n",
       "      <td>140000.0</td>\n",
       "      <td>118850.0</td>\n",
       "      <td>167000.0</td>\n",
       "      <td>138000.0</td>\n",
       "      <td>91640.0</td>\n",
       "      <td>93000.0</td>\n",
       "      <td>135000.0</td>\n",
       "      <td>122055.0</td>\n",
       "      <td>129000.0</td>\n",
       "      <td>1501845</td>\n",
       "    </tr>\n",
       "    <tr>\n",
       "      <th>2</th>\n",
       "      <td>104</td>\n",
       "      <td>新北市立鶯歌陶瓷博物館</td>\n",
       "      <td>85177</td>\n",
       "      <td>76951</td>\n",
       "      <td>68343.0</td>\n",
       "      <td>106135.0</td>\n",
       "      <td>90282.0</td>\n",
       "      <td>127698.0</td>\n",
       "      <td>138154.0</td>\n",
       "      <td>125541.0</td>\n",
       "      <td>76160.0</td>\n",
       "      <td>97091.0</td>\n",
       "      <td>91613.0</td>\n",
       "      <td>70118.0</td>\n",
       "      <td>1153263</td>\n",
       "    </tr>\n",
       "    <tr>\n",
       "      <th>3</th>\n",
       "      <td>104</td>\n",
       "      <td>鶯歌老街</td>\n",
       "      <td>51648</td>\n",
       "      <td>63895</td>\n",
       "      <td>49245.0</td>\n",
       "      <td>48091.0</td>\n",
       "      <td>50046.0</td>\n",
       "      <td>52433.0</td>\n",
       "      <td>52380.0</td>\n",
       "      <td>50180.0</td>\n",
       "      <td>50276.0</td>\n",
       "      <td>54970.0</td>\n",
       "      <td>53648.0</td>\n",
       "      <td>51568.0</td>\n",
       "      <td>628380</td>\n",
       "    </tr>\n",
       "    <tr>\n",
       "      <th>4</th>\n",
       "      <td>104</td>\n",
       "      <td>清水祖師廟</td>\n",
       "      <td>1930</td>\n",
       "      <td>3401</td>\n",
       "      <td>957.0</td>\n",
       "      <td>1074.0</td>\n",
       "      <td>1826.0</td>\n",
       "      <td>1015.0</td>\n",
       "      <td>1453.0</td>\n",
       "      <td>1060.0</td>\n",
       "      <td>1420.0</td>\n",
       "      <td>1964.0</td>\n",
       "      <td>1467.0</td>\n",
       "      <td>1226.0</td>\n",
       "      <td>18793</td>\n",
       "    </tr>\n",
       "  </tbody>\n",
       "</table>\n",
       "</div>"
      ],
      "text/plain": [
       "   Year  ScenicSpots  January  February    March     April       May  \\\n",
       "0   104        林本源園邸    44820     44198  34209.0   40214.0   39353.0   \n",
       "1   104      碧潭風景特定區   120000    154000  93300.0  140000.0  118850.0   \n",
       "2   104  新北市立鶯歌陶瓷博物館    85177     76951  68343.0  106135.0   90282.0   \n",
       "3   104         鶯歌老街    51648     63895  49245.0   48091.0   50046.0   \n",
       "4   104        清水祖師廟     1930      3401    957.0    1074.0    1826.0   \n",
       "\n",
       "       June      July    August  September   October  November  December  \\\n",
       "0   29550.0   34856.0   30662.0    27964.0   40779.0   43828.0   35799.0   \n",
       "1  167000.0  138000.0   91640.0    93000.0  135000.0  122055.0  129000.0   \n",
       "2  127698.0  138154.0  125541.0    76160.0   97091.0   91613.0   70118.0   \n",
       "3   52433.0   52380.0   50180.0    50276.0   54970.0   53648.0   51568.0   \n",
       "4    1015.0    1453.0    1060.0     1420.0    1964.0    1467.0    1226.0   \n",
       "\n",
       "     Total  \n",
       "0   446232  \n",
       "1  1501845  \n",
       "2  1153263  \n",
       "3   628380  \n",
       "4    18793  "
      ]
     },
     "execution_count": 3,
     "metadata": {},
     "output_type": "execute_result"
    }
   ],
   "source": [
    "df.head()"
   ]
  },
  {
   "cell_type": "markdown",
   "metadata": {},
   "source": [
    "# 整理資料"
   ]
  },
  {
   "cell_type": "code",
   "execution_count": 4,
   "metadata": {},
   "outputs": [],
   "source": [
    "df.drop(['January','February','March','April','May','June','August','September','October','November','Total'],axis=1,inplace=True)"
   ]
  },
  {
   "cell_type": "code",
   "execution_count": 5,
   "metadata": {},
   "outputs": [
    {
     "data": {
      "text/html": [
       "<div>\n",
       "<style scoped>\n",
       "    .dataframe tbody tr th:only-of-type {\n",
       "        vertical-align: middle;\n",
       "    }\n",
       "\n",
       "    .dataframe tbody tr th {\n",
       "        vertical-align: top;\n",
       "    }\n",
       "\n",
       "    .dataframe thead th {\n",
       "        text-align: right;\n",
       "    }\n",
       "</style>\n",
       "<table border=\"1\" class=\"dataframe\">\n",
       "  <thead>\n",
       "    <tr style=\"text-align: right;\">\n",
       "      <th></th>\n",
       "      <th>Year</th>\n",
       "      <th>ScenicSpots</th>\n",
       "      <th>July</th>\n",
       "      <th>December</th>\n",
       "    </tr>\n",
       "  </thead>\n",
       "  <tbody>\n",
       "    <tr>\n",
       "      <th>0</th>\n",
       "      <td>104</td>\n",
       "      <td>林本源園邸</td>\n",
       "      <td>34856.0</td>\n",
       "      <td>35799.0</td>\n",
       "    </tr>\n",
       "    <tr>\n",
       "      <th>1</th>\n",
       "      <td>104</td>\n",
       "      <td>碧潭風景特定區</td>\n",
       "      <td>138000.0</td>\n",
       "      <td>129000.0</td>\n",
       "    </tr>\n",
       "    <tr>\n",
       "      <th>2</th>\n",
       "      <td>104</td>\n",
       "      <td>新北市立鶯歌陶瓷博物館</td>\n",
       "      <td>138154.0</td>\n",
       "      <td>70118.0</td>\n",
       "    </tr>\n",
       "    <tr>\n",
       "      <th>3</th>\n",
       "      <td>104</td>\n",
       "      <td>鶯歌老街</td>\n",
       "      <td>52380.0</td>\n",
       "      <td>51568.0</td>\n",
       "    </tr>\n",
       "    <tr>\n",
       "      <th>4</th>\n",
       "      <td>104</td>\n",
       "      <td>清水祖師廟</td>\n",
       "      <td>1453.0</td>\n",
       "      <td>1226.0</td>\n",
       "    </tr>\n",
       "  </tbody>\n",
       "</table>\n",
       "</div>"
      ],
      "text/plain": [
       "   Year  ScenicSpots      July  December\n",
       "0   104        林本源園邸   34856.0   35799.0\n",
       "1   104      碧潭風景特定區  138000.0  129000.0\n",
       "2   104  新北市立鶯歌陶瓷博物館  138154.0   70118.0\n",
       "3   104         鶯歌老街   52380.0   51568.0\n",
       "4   104        清水祖師廟    1453.0    1226.0"
      ]
     },
     "execution_count": 5,
     "metadata": {},
     "output_type": "execute_result"
    }
   ],
   "source": [
    "df.head()"
   ]
  },
  {
   "cell_type": "code",
   "execution_count": 6,
   "metadata": {},
   "outputs": [],
   "source": [
    "df2=df[:28]"
   ]
  },
  {
   "cell_type": "code",
   "execution_count": 7,
   "metadata": {},
   "outputs": [
    {
     "data": {
      "text/html": [
       "<div>\n",
       "<style scoped>\n",
       "    .dataframe tbody tr th:only-of-type {\n",
       "        vertical-align: middle;\n",
       "    }\n",
       "\n",
       "    .dataframe tbody tr th {\n",
       "        vertical-align: top;\n",
       "    }\n",
       "\n",
       "    .dataframe thead th {\n",
       "        text-align: right;\n",
       "    }\n",
       "</style>\n",
       "<table border=\"1\" class=\"dataframe\">\n",
       "  <thead>\n",
       "    <tr style=\"text-align: right;\">\n",
       "      <th></th>\n",
       "      <th>Year</th>\n",
       "      <th>ScenicSpots</th>\n",
       "      <th>July</th>\n",
       "      <th>December</th>\n",
       "    </tr>\n",
       "  </thead>\n",
       "  <tbody>\n",
       "    <tr>\n",
       "      <th>0</th>\n",
       "      <td>104</td>\n",
       "      <td>林本源園邸</td>\n",
       "      <td>34856.0</td>\n",
       "      <td>35799.0</td>\n",
       "    </tr>\n",
       "    <tr>\n",
       "      <th>1</th>\n",
       "      <td>104</td>\n",
       "      <td>碧潭風景特定區</td>\n",
       "      <td>138000.0</td>\n",
       "      <td>129000.0</td>\n",
       "    </tr>\n",
       "    <tr>\n",
       "      <th>2</th>\n",
       "      <td>104</td>\n",
       "      <td>新北市立鶯歌陶瓷博物館</td>\n",
       "      <td>138154.0</td>\n",
       "      <td>70118.0</td>\n",
       "    </tr>\n",
       "    <tr>\n",
       "      <th>3</th>\n",
       "      <td>104</td>\n",
       "      <td>鶯歌老街</td>\n",
       "      <td>52380.0</td>\n",
       "      <td>51568.0</td>\n",
       "    </tr>\n",
       "    <tr>\n",
       "      <th>4</th>\n",
       "      <td>104</td>\n",
       "      <td>清水祖師廟</td>\n",
       "      <td>1453.0</td>\n",
       "      <td>1226.0</td>\n",
       "    </tr>\n",
       "  </tbody>\n",
       "</table>\n",
       "</div>"
      ],
      "text/plain": [
       "   Year  ScenicSpots      July  December\n",
       "0   104        林本源園邸   34856.0   35799.0\n",
       "1   104      碧潭風景特定區  138000.0  129000.0\n",
       "2   104  新北市立鶯歌陶瓷博物館  138154.0   70118.0\n",
       "3   104         鶯歌老街   52380.0   51568.0\n",
       "4   104        清水祖師廟    1453.0    1226.0"
      ]
     },
     "execution_count": 7,
     "metadata": {},
     "output_type": "execute_result"
    }
   ],
   "source": [
    "df2.head()"
   ]
  },
  {
   "cell_type": "code",
   "execution_count": 8,
   "metadata": {},
   "outputs": [],
   "source": [
    "x = np.array(df2.July) #7月\n",
    "y = np.array(df2.December) #12月"
   ]
  },
  {
   "cell_type": "code",
   "execution_count": 9,
   "metadata": {},
   "outputs": [
    {
     "data": {
      "text/plain": [
       "<matplotlib.collections.PathCollection at 0x109d75128>"
      ]
     },
     "execution_count": 9,
     "metadata": {},
     "output_type": "execute_result"
    },
    {
     "data": {
      "image/png": "[encoded data removed]",
      "text/plain": [
       "<Figure size 432x288 with 1 Axes>"
      ]
     },
     "metadata": {},
     "output_type": "display_data"
    }
   ],
   "source": [
    "plt.scatter(x, y)"
   ]
  },
  {
   "cell_type": "markdown",
   "metadata": {},
   "source": [
    "根據上圖可以看出，7月與12月的人數有正相關，而且接近線性，以下是利用線性回歸得到的結果。"
   ]
  },
  {
   "cell_type": "code",
   "execution_count": 10,
   "metadata": {},
   "outputs": [],
   "source": [
    "from sklearn.linear_model import LinearRegression\n",
    "regr = LinearRegression()\n",
    "X=x.reshape(len(x),1)\n",
    "Y=y.reshape(len(y),1)"
   ]
  },
  {
   "cell_type": "code",
   "execution_count": 11,
   "metadata": {},
   "outputs": [],
   "source": [
    "from sklearn.model_selection import train_test_split\n",
    "x_train,x_test,y_train,y_test=train_test_split(X,Y,test_size=0.3,random_state=10000)"
   ]
  },
  {
   "cell_type": "code",
   "execution_count": 12,
   "metadata": {},
   "outputs": [
    {
     "data": {
      "text/plain": [
       "<matplotlib.collections.PathCollection at 0x1a1758fef0>"
      ]
     },
     "execution_count": 12,
     "metadata": {},
     "output_type": "execute_result"
    },
    {
     "data": {
      "image/png": "[encoded data removed]",
      "text/plain": [
       "<Figure size 432x288 with 1 Axes>"
      ]
     },
     "metadata": {},
     "output_type": "display_data"
    }
   ],
   "source": [
    "plt.scatter(x_train,y_train)"
   ]
  },
  {
   "cell_type": "code",
   "execution_count": 13,
   "metadata": {},
   "outputs": [
    {
     "data": {
      "text/plain": [
       "LinearRegression(copy_X=True, fit_intercept=True, n_jobs=1, normalize=False)"
      ]
     },
     "execution_count": 13,
     "metadata": {},
     "output_type": "execute_result"
    }
   ],
   "source": [
    "regr.fit(x_train,y_train)"
   ]
  },
  {
   "cell_type": "code",
   "execution_count": 14,
   "metadata": {},
   "outputs": [],
   "source": [
    "Y_pred=regr.predict(x_test)"
   ]
  },
  {
   "cell_type": "code",
   "execution_count": 15,
   "metadata": {},
   "outputs": [
    {
     "data": {
      "text/plain": [
       "[<matplotlib.lines.Line2D at 0x110a4bd68>]"
      ]
     },
     "execution_count": 15,
     "metadata": {},
     "output_type": "execute_result"
    },
    {
     "data": {
      "image/png": "[encoded data removed]",
      "text/plain": [
       "<Figure size 432x288 with 1 Axes>"
      ]
     },
     "metadata": {},
     "output_type": "display_data"
    }
   ],
   "source": [
    "plt.scatter(x_test, y_test)\n",
    "plt.plot(x_test, Y_pred, 'r')"
   ]
  },
  {
   "cell_type": "code",
   "execution_count": 16,
   "metadata": {},
   "outputs": [
    {
     "data": {
      "text/plain": [
       "0.8974089930528822"
      ]
     },
     "execution_count": 16,
     "metadata": {},
     "output_type": "execute_result"
    }
   ],
   "source": [
    "regr.score(x_test, y_test) "
   ]
  },
  {
   "cell_type": "markdown",
   "metadata": {},
   "source": [
    "預測準確率"
   ]
  }
 ],
 "metadata": {
  "kernelspec": {
   "display_name": "Python 3",
   "language": "python",
   "name": "python3"
  },
  "language_info": {
   "codemirror_mode": {
    "name": "ipython",
    "version": 3
   },
   "file_extension": ".py",
   "mimetype": "text/x-python",
   "name": "python",
   "nbconvert_exporter": "python",
   "pygments_lexer": "ipython3",
   "version": "3.6.5"
  }
 },
 "nbformat": 4,
 "nbformat_minor": 2
}
